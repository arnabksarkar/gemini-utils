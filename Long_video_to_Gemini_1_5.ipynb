{
  "metadata": {
    "kernelspec": {
      "display_name": "Python 3",
      "name": "python3"
    },
    "language_info": {
      "name": "python",
      "version": "3.10.14",
      "mimetype": "text/x-python",
      "codemirror_mode": {
        "name": "ipython",
        "version": 3
      },
      "pygments_lexer": "ipython3",
      "nbconvert_exporter": "python",
      "file_extension": ".py"
    },
    "kaggle": {
      "accelerator": "none",
      "dataSources": [
        {
          "sourceId": 83735,
          "databundleVersionId": 9881586,
          "sourceType": "competition"
        },
        {
          "sourceId": 8347597,
          "sourceType": "datasetVersion",
          "datasetId": 4959085
        }
      ],
      "dockerImageVersionId": 30786,
      "isInternetEnabled": true,
      "language": "python",
      "sourceType": "notebook",
      "isGpuEnabled": false
    },
    "colab": {
      "provenance": [],
      "include_colab_link": true
    }
  },
  "nbformat_minor": 0,
  "nbformat": 4,
  "cells": [
    {
      "cell_type": "markdown",
      "metadata": {
        "id": "view-in-github",
        "colab_type": "text"
      },
      "source": [
        "<a href=\"https://colab.research.google.com/github/arnabksarkar/gemini-utils/blob/main/Long_video_to_Gemini_1_5.ipynb\" target=\"_parent\"><img src=\"https://colab.research.google.com/assets/colab-badge.svg\" alt=\"Open In Colab\"/></a>"
      ]
    },
    {
      "cell_type": "markdown",
      "source": [
        "# Long youtube video upload to Gemini 1.5"
      ],
      "metadata": {
        "id": "qSLadZ07yZDM"
      }
    },
    {
      "cell_type": "markdown",
      "source": [
        "## Purpose"
      ],
      "metadata": {
        "id": "pPrkb9MLdv9Z"
      }
    },
    {
      "cell_type": "markdown",
      "source": [
        "The purpose of this notebook is to explore how we can increase student engagement for long lecture classes using Gemini long context widown.\n",
        "\n",
        "Traditional lectures often lead to information overload, making it difficult for students to retain key concepts in a passive learning environment that offers limited opportunities for immediate clarification and necessitates time-consuming note-taking.\n",
        "\n",
        "By leveraging Gemni 1.5 long context window, students will experience more efficient study sessions, leading to better exam results and a more fulfilling educational journey, ultimately paving the way for future learning innovations."
      ],
      "metadata": {
        "id": "qinsZ6o0d6Bb"
      }
    },
    {
      "cell_type": "markdown",
      "source": [
        "\n",
        "For illustrative purposes, a YouTube lecture video is utilized; however, the system accommodates any .mp4 file. This approach enables the exploration and understanding of complex video data within a single, unified context."
      ],
      "metadata": {
        "id": "AHGc3pmOLySL"
      }
    },
    {
      "cell_type": "markdown",
      "source": [
        "## Prerequisites\n",
        "\n",
        "Install necessary dependencies. We need two libraries to demonstrate this example.\n",
        "\n",
        "1.   The [Google AI Python SDK](https://pypi.org/project/google-generativeai/)  to access the Gemini API.\n",
        "2.   A lightweight Python library [pytubefix](https://pypi.org/project/pytubefix/) for downloading YouTube videos\n",
        "\n"
      ],
      "metadata": {
        "id": "6QvMR7ih07ZD"
      }
    },
    {
      "cell_type": "code",
      "source": [
        "!pip install -q -U google-generativeai\n",
        "!pip install -q -U  pytubefix"
      ],
      "metadata": {
        "colab": {
          "base_uri": "https://localhost:8080/"
        },
        "id": "o_YCWFJe1d-s",
        "outputId": "6eb415b8-7a1b-42bd-954a-dc3d89f59483"
      },
      "execution_count": null,
      "outputs": [
        {
          "output_type": "stream",
          "name": "stdout",
          "text": [
            "\u001b[?25l   \u001b[90m━━━━━━━━━━━━━━━━━━━━━━━━━━━━━━━━━━━━━━━━\u001b[0m \u001b[32m0.0/84.2 kB\u001b[0m \u001b[31m?\u001b[0m eta \u001b[36m-:--:--\u001b[0m\r\u001b[2K   \u001b[91m━━━━━━━━━━━━━━━━━━━━━━━━━━━━━━━━━━━━━━\u001b[0m\u001b[91m╸\u001b[0m\u001b[90m━\u001b[0m \u001b[32m81.9/84.2 kB\u001b[0m \u001b[31m3.3 MB/s\u001b[0m eta \u001b[36m0:00:01\u001b[0m\r\u001b[2K   \u001b[90m━━━━━━━━━━━━━━━━━━━━━━━━━━━━━━━━━━━━━━━━\u001b[0m \u001b[32m84.2/84.2 kB\u001b[0m \u001b[31m1.9 MB/s\u001b[0m eta \u001b[36m0:00:00\u001b[0m\n",
            "\u001b[?25h"
          ]
        }
      ]
    },
    {
      "cell_type": "markdown",
      "source": [
        "## Import necessary packages"
      ],
      "metadata": {
        "id": "R1Gv5fQN2LVz"
      }
    },
    {
      "cell_type": "code",
      "source": [
        "import textwrap\n",
        "import os\n",
        "import time\n",
        "\n",
        "# Import the genAI library\n",
        "import google.generativeai as genai\n",
        "\n",
        "# Used to securely store your API key\n",
        "from google.colab import userdata\n",
        "\n",
        "# for Kaggle secrects\n",
        "# from kaggle_secrets import UserSecretsClient\n",
        "\n",
        "# Markdown\n",
        "from IPython.display import Markdown\n",
        "\n",
        "# To download Youtube video\n",
        "from pytubefix import YouTube\n",
        "\n"
      ],
      "metadata": {
        "id": "Z6k0ssmv2SB7"
      },
      "execution_count": null,
      "outputs": []
    },
    {
      "cell_type": "markdown",
      "source": [
        "#### An utility function"
      ],
      "metadata": {
        "id": "yofrmfpxta3d"
      }
    },
    {
      "cell_type": "code",
      "source": [
        "def to_markdown(text):\n",
        "    text = text.replace(\"•\", \"  *\")\n",
        "    return Markdown(textwrap.indent(text, \"> \", predicate=lambda _: True))\n"
      ],
      "metadata": {
        "id": "Qkun7oDYtqme"
      },
      "execution_count": null,
      "outputs": []
    },
    {
      "cell_type": "markdown",
      "source": [
        "## Authenticate with Google Generative AI"
      ],
      "metadata": {
        "id": "aj7KSjam3yl1"
      }
    },
    {
      "cell_type": "markdown",
      "source": [
        "Get your API key from https://aistudio.google.com/app/apikey and access your API key as an environment variable."
      ],
      "metadata": {
        "id": "6w_KmytCuUdw"
      }
    },
    {
      "cell_type": "markdown",
      "source": [
        "\n",
        "If you are using **Kaggle** please use the below code to access the secrects.\n",
        "\n",
        "\n",
        "\n",
        "\n",
        "\n",
        "\n",
        "\n"
      ],
      "metadata": {
        "id": "7mA6Fc5j277g"
      }
    },
    {
      "cell_type": "code",
      "source": [
        "# user_secrets = UserSecretsClient()\n",
        "# GOOGLE_API_KEY = user_secrets.get_secret(\"GEMINI_API_KEY\")"
      ],
      "metadata": {
        "id": "52dTSCr93bCY"
      },
      "execution_count": null,
      "outputs": []
    },
    {
      "cell_type": "markdown",
      "source": [
        "If you are using **Google Colab** please use the below code."
      ],
      "metadata": {
        "id": "k2eIvNR6t1_3"
      }
    },
    {
      "cell_type": "code",
      "source": [
        "GOOGLE_API_KEY = userdata.get(\"GEMINI_API_KEY\")\n"
      ],
      "metadata": {
        "id": "48CVU4vI4JCj"
      },
      "execution_count": null,
      "outputs": []
    },
    {
      "cell_type": "markdown",
      "source": [
        "Configure Google GenAI with the API key."
      ],
      "metadata": {
        "id": "YO6vGz0ku37z"
      }
    },
    {
      "cell_type": "code",
      "source": [
        "genai.configure(api_key=GOOGLE_API_KEY)"
      ],
      "metadata": {
        "id": "LVCCHi7f4N5-"
      },
      "execution_count": null,
      "outputs": []
    },
    {
      "cell_type": "markdown",
      "source": [
        "## Download the large video from Youtube\n",
        "\n",
        "\n",
        "\n",
        "> This is a machine learning [lecture video](https://www.youtube.com/watch?v=lWGdFeMsjzg) from the University of Tübingen. It was uploaded under the  [Creative Commons Attribution license (reuse allowed)](https://support.google.com/youtube/answer/2797468) on Youtube.com. We will be using this video for demonstration purpose only.\n",
        "\n"
      ],
      "metadata": {
        "id": "IPZb-LgqyZDN"
      }
    },
    {
      "cell_type": "code",
      "source": [
        "# download the video to the current directory.\n",
        "YouTube('https://www.youtube.com/watch?v=lWGdFeMsjzg').streams.get_highest_resolution().download()"
      ],
      "metadata": {
        "colab": {
          "base_uri": "https://localhost:8080/",
          "height": 35
        },
        "id": "to3cug-uD70s",
        "outputId": "e2a101cd-c896-4cf1-fffb-debfa33e0ee7"
      },
      "execution_count": null,
      "outputs": [
        {
          "output_type": "execute_result",
          "data": {
            "text/plain": [
              "'/content/Introduction to Machine Learning - 01 - Baby steps towards linear regression.mp4'"
            ],
            "application/vnd.google.colaboratory.intrinsic+json": {
              "type": "string"
            }
          },
          "metadata": {},
          "execution_count": 6
        }
      ]
    },
    {
      "cell_type": "code",
      "source": [
        "yt_video = 'Introduction to Machine Learning - 01 - Baby steps towards linear regression.mp4'\n"
      ],
      "metadata": {
        "id": "vGhADljZLgLY"
      },
      "execution_count": null,
      "outputs": []
    },
    {
      "cell_type": "markdown",
      "source": [
        "## Define helper functions"
      ],
      "metadata": {
        "id": "sftBWBjUyZDO"
      }
    },
    {
      "cell_type": "code",
      "source": [
        "# Uploads the youtube video to Gemini API.\n",
        "def upload_to_gemini(path, mime_type=None):\n",
        "  file = genai.upload_file(path, mime_type=mime_type)\n",
        "  print(f\"Uploaded file '{file.display_name}' as: {file.uri}\")\n",
        "  return file\n",
        "\n",
        "\n",
        "# Waits for the given youtube video file to be active.\n",
        "# Some files uploaded to the Gemini API need to be processed before they can be\n",
        "#  used as prompt inputs\n",
        "def wait_for_files_active(file):\n",
        "  print(\"Waiting for file processing...\")\n",
        "  file = genai.get_file(file.name)\n",
        "  while file.state.name == \"PROCESSING\":\n",
        "    print(\".\", end=\"\", flush=True)\n",
        "    time.sleep(10)\n",
        "    file = genai.get_file(file.name)\n",
        "  if file.state.name != \"ACTIVE\":\n",
        "    raise Exception(f\"File {file.name} failed to upload.\")\n",
        "\n",
        "  print(f'Video processing complete: {file.name}')"
      ],
      "metadata": {
        "execution": {
          "iopub.status.busy": "2024-10-16T20:45:01.089257Z",
          "iopub.execute_input": "2024-10-16T20:45:01.089942Z",
          "iopub.status.idle": "2024-10-16T20:45:01.10317Z",
          "shell.execute_reply.started": "2024-10-16T20:45:01.089877Z",
          "shell.execute_reply": "2024-10-16T20:45:01.101129Z"
        },
        "_kg_hide-input": true,
        "trusted": true,
        "id": "q-CpEhulyZDO"
      },
      "outputs": [],
      "execution_count": null
    },
    {
      "cell_type": "code",
      "source": [
        "# # Create the model\n",
        "# generation_config = {\n",
        "#   \"temperature\": 1,\n",
        "#   \"top_p\": 0.95,\n",
        "#   \"top_k\": 64,\n",
        "#   \"max_output_tokens\": 8192,\n",
        "#   \"response_mime_type\": \"text/plain\",\n",
        "# }\n",
        "\n",
        "# model = genai.GenerativeModel(\n",
        "#   model_name=\"gemini-1.5-pro-latest\",\n",
        "#   generation_config=generation_config,\n",
        "# )"
      ],
      "metadata": {
        "id": "j7g25aMIyZDP"
      },
      "outputs": [],
      "execution_count": null
    },
    {
      "cell_type": "markdown",
      "source": [
        "## Lets upload the video file to Gemini"
      ],
      "metadata": {
        "id": "E1SQpGw1yZDP"
      }
    },
    {
      "cell_type": "code",
      "source": [
        "yt_video_file = upload_to_gemini(yt_video, mime_type=\"video/webm\")\n",
        "wait_for_files_active(yt_video_file)\n"
      ],
      "metadata": {
        "_uuid": "8f2839f25d086af736a60e9eeb907d3b93b6e0e5",
        "_cell_guid": "b1076dfc-b9ad-4769-8c92-a6c4dae69d19",
        "execution": {
          "iopub.status.busy": "2024-10-16T20:45:02.417714Z",
          "iopub.execute_input": "2024-10-16T20:45:02.418223Z",
          "iopub.status.idle": "2024-10-16T20:45:16.408974Z",
          "shell.execute_reply.started": "2024-10-16T20:45:02.418177Z",
          "shell.execute_reply": "2024-10-16T20:45:16.407593Z"
        },
        "trusted": true,
        "colab": {
          "base_uri": "https://localhost:8080/",
          "height": 71
        },
        "id": "0Jenoj76yZDP",
        "outputId": "e5e1a6c7-83a1-4c4b-cb92-48e5f2cf4992"
      },
      "outputs": [
        {
          "output_type": "stream",
          "name": "stdout",
          "text": [
            "Uploaded file 'Introduction to Machine Learning - 01 - Baby steps towards linear regression.mp4' as: https://generativelanguage.googleapis.com/v1beta/files/l9ppi5zq3vy0\n",
            "Waiting for file processing...\n",
            "....Video processing complete: files/l9ppi5zq3vy0\n"
          ]
        }
      ],
      "execution_count": null
    },
    {
      "cell_type": "markdown",
      "source": [
        "## Cache the tokens\n",
        "\n",
        "We will now create a cache with a 5 minutes TTL"
      ],
      "metadata": {
        "id": "V3lCk5sGOJhh"
      }
    },
    {
      "cell_type": "code",
      "source": [
        "from google.generativeai import caching\n",
        "import datetime\n",
        "\n",
        "cache = caching.CachedContent.create(\n",
        "    model=\"gemini-1.5-pro-001\",\n",
        "    display_name='machine_learning_desc',\n",
        "    system_instruction=(\n",
        "        'You are a helpful and informative bot that is an expert in analyzing videos included here, and your job is to answer '\n",
        "        'the user\\'s query based on the video file you have access to. Do not answer anything outside of the video context.'\n",
        "    ),\n",
        "    contents=yt_video_file,\n",
        "    ttl=datetime.timedelta(minutes=5),\n",
        ")"
      ],
      "metadata": {
        "id": "cDC9r0u86xBk"
      },
      "execution_count": null,
      "outputs": []
    },
    {
      "cell_type": "markdown",
      "source": [
        "## Ask Gemini 1.5 questions about the file"
      ],
      "metadata": {
        "id": "KEkMjNlhyZDP"
      }
    },
    {
      "cell_type": "code",
      "source": [
        "# query = \"Can you please summarize the video in 5 sentences?\"\n",
        "# prompt = make_prompt(query)"
      ],
      "metadata": {
        "id": "5ZgOjxTHz5Sk"
      },
      "execution_count": null,
      "outputs": []
    },
    {
      "cell_type": "code",
      "source": [
        "# Construct a GenerativeModel which uses the created cache.\n",
        "model = genai.GenerativeModel.from_cached_content(cached_content=cache)"
      ],
      "metadata": {
        "id": "MfSSRqxo1Isv"
      },
      "execution_count": null,
      "outputs": []
    },
    {
      "cell_type": "markdown",
      "source": [
        "### Lets look at the usage."
      ],
      "metadata": {
        "id": "jIrvfVwuWnJT"
      }
    },
    {
      "cell_type": "code",
      "source": [
        "def generate_content(prompt):\n",
        "  answer = model.generate_content(prompt)\n",
        "  print(f\"Usage: {answer.usage_metadata}\")\n",
        "  return Markdown(answer.text)"
      ],
      "metadata": {
        "id": "rjBSxODYWpM7"
      },
      "execution_count": null,
      "outputs": []
    },
    {
      "cell_type": "code",
      "source": [
        "generate_content([(\n",
        "    'Describe a maximum of 5 topics described in the lecture video '\n",
        "    'Display the topic names, a short description. Also list the timestamps '\n",
        "    'they were introduced for the first time. Please use bullet points. ')])"
      ],
      "metadata": {
        "id": "ZXwZC0k-yZDP",
        "colab": {
          "base_uri": "https://localhost:8080/",
          "height": 431
        },
        "outputId": "144abec4-3e7c-4d64-8067-6ca006048727"
      },
      "outputs": [
        {
          "output_type": "stream",
          "name": "stdout",
          "text": [
            "Usage: prompt_token_count: 733754\n",
            "candidates_token_count: 423\n",
            "total_token_count: 734177\n",
            "cached_content_token_count: 733714\n",
            "\n"
          ]
        },
        {
          "output_type": "execute_result",
          "data": {
            "text/plain": [
              "<IPython.core.display.Markdown object>"
            ],
            "text/markdown": "The video describes the following topics:\n\n* **Machine Learning I Course Introduction**  [0:17]\nThis is an introductory machine learning course with around 10 lectures, covering a broad range of machine learning topics with a focus on the mathematics behind them. The presenter states that this course will prepare the students to take other, more advanced, machine learning courses. \n* **Mathematics for Machine Learning** [2:30]\nThe course uses mathematical concepts, such as derivatives, to explain machine learning methods. Some students may be unfamiliar with the mathematics needed, but they can use a free online book \"Mathematics for Machine Learning,\" by Marc Peter Deisenroth, A. Aldo Faisal, and Cheng Soon Ong, to supplement the course.\n* **Machine Learning vs. Statistics** [6:26]\nBoth machine learning and statistics aim to discover patterns in data by building predictive models. However, the fields differ slightly in terms of their emphasis. Statistics focuses on understanding the world through data, using simpler models that are easier to interpret and develop theoretical analyses. In contrast, machine learning focuses on making accurate predictions, often using complex models and large datasets, and giving up on the interpretability of the statistical models.  \n* **Types of Machine Learning Problems** [11:51]\nThe presenter describes 3 main types of machine learning problems:\n    * **Supervised learning:** Input data includes labels and the algorithm learns to distinguish one class from another.  \n    * **Unsupervised learning:** Input data is not labeled and the algorithm learns to cluster input data by the object/category they belong to.\n    * **Reinforcement learning:** The algorithm learns by taking actions in a given environment and receiving rewards for completing a given task. \n* **Linear Regression** [15:00]\nLinear regression is a classical statistical method that predicts a continuous variable from a single predictor. The model fits a linear function to a set of data, predicting the target (dependent) variable from the single predictor (independent) variable. \n"
          },
          "metadata": {},
          "execution_count": 14
        }
      ],
      "execution_count": null
    }
  ]
}